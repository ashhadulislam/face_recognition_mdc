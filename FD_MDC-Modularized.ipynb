{
 "cells": [
  {
   "cell_type": "code",
   "execution_count": 131,
   "metadata": {},
   "outputs": [],
   "source": [
    "import numpy as np\n",
    "import cv2\n",
    "import cvutils\n",
    "from skimage import io\n",
    "from numpy import linalg as LA\n",
    "import scipy"
   ]
  },
  {
   "cell_type": "code",
   "execution_count": 132,
   "metadata": {},
   "outputs": [],
   "source": [
    "# ! pip install opencv-python\n",
    "# ! pip install cvutils\n",
    "# ! pip install scikit-image\n"
   ]
  },
  {
   "cell_type": "code",
   "execution_count": null,
   "metadata": {},
   "outputs": [],
   "source": []
  },
  {
   "cell_type": "code",
   "execution_count": 133,
   "metadata": {},
   "outputs": [],
   "source": [
    "import os\n",
    "from os import listdir\n",
    "from PIL import Image\n",
    "from matplotlib.pyplot import imshow\n",
    "import matplotlib.pyplot as plt\n",
    "%matplotlib inline"
   ]
  },
  {
   "cell_type": "code",
   "execution_count": 134,
   "metadata": {},
   "outputs": [],
   "source": [
    "# ! pip install opencv-python\n",
    "# ! pip install cvutils\n",
    "# !pip install scikit-image"
   ]
  },
  {
   "cell_type": "code",
   "execution_count": 135,
   "metadata": {},
   "outputs": [],
   "source": [
    "def get_width_height_train_images():\n",
    "    curr_path=os.getcwd()\n",
    "    train_images_path=os.path.join(curr_path,\"train_images\")\n",
    "    print(train_images_path)\n",
    "    for folder in os.listdir(train_images_path):\n",
    "        if \".DS_\" in folder:\n",
    "            continue\n",
    "        train_image_folder=os.path.join(train_images_path,folder)\n",
    "        for file in os.listdir(train_image_folder):\n",
    "            if \".DS_\" in file:\n",
    "                continue\n",
    "            train_image=os.path.join(train_image_folder,file)\n",
    "#             im = Image.open(train_image)\n",
    "            im = cv2.imread(train_image,0)\n",
    "            width, height = im.shape\n",
    "            print(width,height)\n",
    "            return width,height\n",
    "            \n",
    "            \n",
    "\n",
    "    "
   ]
  },
  {
   "cell_type": "code",
   "execution_count": 6,
   "metadata": {},
   "outputs": [
    {
     "name": "stdout",
     "output_type": "stream",
     "text": [
      "/Users/amirulislam/projects/hbku/fall_2019/app_deep_learning/Face_Detection_MDC/train_images\n",
      "2592 1944\n"
     ]
    },
    {
     "data": {
      "text/plain": [
       "(2592, 1944)"
      ]
     },
     "execution_count": 6,
     "metadata": {},
     "output_type": "execute_result"
    }
   ],
   "source": [
    "\n",
    "get_width_height_train_images()"
   ]
  },
  {
   "cell_type": "code",
   "execution_count": 7,
   "metadata": {},
   "outputs": [],
   "source": [
    "def resize_test_images():\n",
    "    '''\n",
    "    read the images and return a flattened matrix \n",
    "    containing the vectors\n",
    "    '''\n",
    "    \n",
    "    # get te width and height of training image\n",
    "    dim=get_width_height_train_images()\n",
    "    print(\"target dim \",dim)\n",
    "   \n",
    "    curr_path=os.getcwd()\n",
    "    \n",
    "    test_images_path=os.path.join(curr_path,\"test_images\")\n",
    "    # print(train_images_path)\n",
    "\n",
    "    folders=listdir(test_images_path)\n",
    "\n",
    "    # add all image matrix into this list as 1D\n",
    "    global_file_count=0\n",
    "    for folder in folders:\n",
    "        if \".DS\" in folder:\n",
    "            continue\n",
    "\n",
    "        folder_location=os.path.join(test_images_path,folder)\n",
    "        files=listdir(folder_location)\n",
    "        for file in files:\n",
    "            file_name=os.path.join(folder_location,file)\n",
    "#             print(file_name)\n",
    "            \n",
    "            if \".DS\" in file:\n",
    "                continue\n",
    "            im = cv2.imread(file_name,0)            \n",
    "            print(\"Old shape is \",im.shape) \n",
    "            dim=(dim[1],dim[0])\n",
    "            im = cv2.resize(im, dim,interpolation = cv2.INTER_NEAREST)\n",
    "            print(\"New shape is \",im.shape)\n",
    "            cv2.imwrite(file_name,im)\n",
    "            \n",
    "#             image_pil = Image.open(file_name).convert('L')\n",
    "#             image_pil = image_pil.resize((int(width), int(height)), Image.NEAREST)\n",
    "#             image_pil.save(file_name)\n",
    "            \n",
    "\n",
    "            global_file_count+=1\n",
    "    print(\"number of files read = \",global_file_count)\n",
    "\n",
    "    #     print(image.shape)\n",
    "    print(\"Done resizing\")\n",
    "    "
   ]
  },
  {
   "cell_type": "code",
   "execution_count": 8,
   "metadata": {},
   "outputs": [
    {
     "name": "stdout",
     "output_type": "stream",
     "text": [
      "/Users/amirulislam/projects/hbku/fall_2019/app_deep_learning/Face_Detection_MDC/train_images\n",
      "2592 1944\n",
      "target dim  (2592, 1944)\n",
      "Old shape is  (2592, 1944)\n",
      "New shape is  (2592, 1944)\n",
      "number of files read =  1\n",
      "Done resizing\n"
     ]
    }
   ],
   "source": [
    "resize_test_images()"
   ]
  },
  {
   "cell_type": "markdown",
   "metadata": {},
   "source": []
  },
  {
   "cell_type": "code",
   "execution_count": 9,
   "metadata": {},
   "outputs": [],
   "source": [
    "def read_flatten(location,count):\n",
    "    '''\n",
    "    read the images and return a flattened matrix \n",
    "    containing the vectors\n",
    "    '''\n",
    "    train_images_path=location\n",
    "    # print(train_images_path)\n",
    "    width,height=get_width_height_train_images()\n",
    "\n",
    "    folders=listdir(train_images_path)\n",
    "    list_of_1d_matrix=[]\n",
    "\n",
    "    # add all image matrix into this list as 1D\n",
    "    global_file_count=0\n",
    "    for folder in folders:\n",
    "        if \".DS\" in folder:\n",
    "            continue\n",
    "\n",
    "        folder_location=os.path.join(train_images_path,folder)\n",
    "        files=listdir(folder_location)\n",
    "        i=0\n",
    "        for file in files:\n",
    "            file_name=os.path.join(folder_location,file)\n",
    "#             print(file_name)\n",
    "            \n",
    "            if \".DS\" in file:\n",
    "                continue\n",
    "#             image_pil = Image.open(file_name).convert('L')\n",
    "#             image = np.array(image_pil, 'uint8')\n",
    "            im = cv2.imread(file_name,0)\n",
    "            print(im.shape)\n",
    "            plt.figure()\n",
    "            plt.imshow(im)\n",
    "            data = np.array(im)\n",
    "            flattened = data.flatten()\n",
    "            transposed=flattened.transpose()\n",
    "            list_of_1d_matrix.append(transposed)\n",
    "            \n",
    "            plt.figure()\n",
    "            plt.imshow(np.asarray(transposed.reshape(width,height)))\n",
    "\n",
    "            \n",
    "            i=i+1\n",
    "            global_file_count+=1\n",
    "            if i==count:\n",
    "                break\n",
    "    print(\"number of files read = \",global_file_count)\n",
    "\n",
    "    #     print(image.shape)\n",
    "    matrix_vectors=np.array(list_of_1d_matrix)\n",
    "    plt.figure()\n",
    "    plt.imshow(np.asarray(matrix_vectors[0].reshape(width,height)))\n",
    "\n",
    "    return matrix_vectors\n",
    "    "
   ]
  },
  {
   "cell_type": "code",
   "execution_count": 10,
   "metadata": {},
   "outputs": [],
   "source": [
    "def calculate_mean_faces(image_matrix):\n",
    "    '''\n",
    "    calculate average vector\n",
    "    subtract average from each vector\n",
    "    '''\n",
    "    matrix_vectors=image_matrix\n",
    "    avg_vector=matrix_vectors.mean(0)\n",
    "    matrix_vectors=(matrix_vectors-avg_vector)\n",
    "    return matrix_vectors,avg_vector\n",
    "    \n",
    "    \n",
    "    "
   ]
  },
  {
   "cell_type": "code",
   "execution_count": 11,
   "metadata": {},
   "outputs": [],
   "source": [
    "def calculate_covariance_matrix(matrix):\n",
    "    '''\n",
    "    take any matrix and find its\n",
    "    covariance matrix\n",
    "    '''\n",
    "#     return matrix.dot(matrix.transpose())\n",
    "    return np.cov(matrix)"
   ]
  },
  {
   "cell_type": "code",
   "execution_count": 12,
   "metadata": {},
   "outputs": [],
   "source": [
    "def get_eigen_values_sorted(matrix, percentage):\n",
    "    eigen_values, eigen_vectors = LA.eig(matrix)\n",
    "    \n",
    "    \n",
    "    \n",
    "    idx = eigen_values.argsort()[::-1]   \n",
    "    eigen_values = eigen_values[idx]\n",
    "#     print(\"before sorting\")\n",
    "#     print(eigen_values)\n",
    "#     print(eigen_vectors)\n",
    "    \n",
    "    print(\"Number of eigen values = \",len(idx))\n",
    "    \n",
    "    # to sort the eigen vectors\n",
    "    list_of_eigen_vectors=[]\n",
    "    for index in idx:\n",
    "        list_of_eigen_vectors.append(eigen_vectors[index])\n",
    "    eigen_vectors=np.array(list_of_eigen_vectors)\n",
    "\n",
    "        \n",
    "\n",
    "#     eigen_vectors = eigen_vectors[:,idx]\n",
    "    \n",
    "    ratio=percentage/100\n",
    "    if eigen_vectors.shape[0]>=10:\n",
    "        print(\"need to shorten\")\n",
    "        top=int(eigen_vectors.shape[0]*ratio)\n",
    "        print(\"will take \",top)\n",
    "        eigen_values=eigen_values[:top]\n",
    "        eigen_vectors=eigen_vectors[:top]\n",
    "    return eigen_values, eigen_vectors\n",
    "\n",
    "    \n",
    "    "
   ]
  },
  {
   "cell_type": "code",
   "execution_count": 13,
   "metadata": {},
   "outputs": [],
   "source": [
    "def get_weight_vector_for_images(image_matrix,eigen_vectors):\n",
    "# for each image\n",
    "# we have to store a set of weights\n",
    "    list_of_weights=[]\n",
    "    i=0\n",
    "    \n",
    "    for mean_face in image_matrix:\n",
    "    #     print(mean_face.shape)\n",
    "        weights_for_this_face=[]\n",
    "#         print(\"for face \",i)\n",
    "        i=i+1\n",
    "        for eigen_vector in eigen_vectors:\n",
    "            print(eigen_vector.transpose(),\"\\n\", mean_face)            \n",
    "    #         print(eigen_vector.shape, mean_face.shape)\n",
    "            weight=(eigen_vector.transpose().dot(mean_face))\n",
    "        \n",
    "            print(\"weights \",weight)\n",
    "    #         print(mean_face)\n",
    "            weights_for_this_face.append(weight)\n",
    "        list_of_weights.append(weights_for_this_face)\n",
    "    weight_vector=np.array(list_of_weights)\n",
    "    return weight_vector\n"
   ]
  },
  {
   "cell_type": "markdown",
   "metadata": {},
   "source": [
    "## Start here\n"
   ]
  },
  {
   "cell_type": "markdown",
   "metadata": {},
   "source": []
  },
  {
   "cell_type": "code",
   "execution_count": null,
   "metadata": {},
   "outputs": [],
   "source": []
  },
  {
   "cell_type": "markdown",
   "metadata": {},
   "source": [
    "## Step 1. Read image and flatten into 1d matrices"
   ]
  },
  {
   "cell_type": "code",
   "execution_count": null,
   "metadata": {},
   "outputs": [],
   "source": [
    "curr_path=os.getcwd()\n",
    "train_images_path=os.path.join(curr_path,\"train_images\")\n",
    "count_of_files=3\n",
    "matrix_vectors=read_flatten(train_images_path,count_of_files)\n",
    "print(matrix_vectors.shape)\n"
   ]
  },
  {
   "cell_type": "code",
   "execution_count": null,
   "metadata": {},
   "outputs": [],
   "source": [
    "width,height=get_width_height_train_images()\n",
    "plt.figure()\n",
    "plt.imshow(np.asarray(matrix_vectors[0].reshape(width,height)))\n"
   ]
  },
  {
   "cell_type": "markdown",
   "metadata": {},
   "source": [
    "## Step 2. Calculate average of the matrix\n",
    "## And calculate the mean faces"
   ]
  },
  {
   "cell_type": "code",
   "execution_count": null,
   "metadata": {},
   "outputs": [],
   "source": [
    "mean_face_matrix,avg_vector=calculate_mean_faces(matrix_vectors)"
   ]
  },
  {
   "cell_type": "code",
   "execution_count": null,
   "metadata": {},
   "outputs": [],
   "source": [
    "print(mean_face_matrix.shape)\n"
   ]
  },
  {
   "cell_type": "code",
   "execution_count": null,
   "metadata": {},
   "outputs": [],
   "source": [
    "print(mean_face_matrix.max())\n",
    "print(mean_face_matrix.min())"
   ]
  },
  {
   "cell_type": "code",
   "execution_count": null,
   "metadata": {},
   "outputs": [],
   "source": [
    "plt.imshow(np.asarray(mean_face_matrix[0].reshape(width,height)))"
   ]
  },
  {
   "cell_type": "markdown",
   "metadata": {},
   "source": [
    "## Step 3. Calculate covariance matrix"
   ]
  },
  {
   "cell_type": "code",
   "execution_count": null,
   "metadata": {},
   "outputs": [],
   "source": [
    "covar_matrix=calculate_covariance_matrix(mean_face_matrix)"
   ]
  },
  {
   "cell_type": "code",
   "execution_count": null,
   "metadata": {},
   "outputs": [],
   "source": [
    "print(covar_matrix)"
   ]
  },
  {
   "cell_type": "code",
   "execution_count": null,
   "metadata": {},
   "outputs": [],
   "source": [
    "# print(\"{\",end=\"\")\n",
    "# for row in covar_matrix:\n",
    "#     print(\"{\",end=\"\")\n",
    "#     for elem in row:\n",
    "#         print(elem, end = ',')\n",
    "#     print(\"}\",end=\",\")\n",
    "# print(\"}\",end=\",\")"
   ]
  },
  {
   "cell_type": "markdown",
   "metadata": {},
   "source": [
    "## Step 5. Calculate Eigen vectors and Eigen values\n",
    "\n",
    "### consider the matrix [3,X3]\n",
    "\n",
    "### compute the eigenvectors of  this small co variance matrix"
   ]
  },
  {
   "cell_type": "code",
   "execution_count": null,
   "metadata": {},
   "outputs": [],
   "source": [
    "\n",
    "eigen_values,eigen_vectors=get_eigen_values_sorted(covar_matrix,100)"
   ]
  },
  {
   "cell_type": "code",
   "execution_count": null,
   "metadata": {},
   "outputs": [],
   "source": [
    "print(eigen_values)\n",
    "\n"
   ]
  },
  {
   "cell_type": "code",
   "execution_count": null,
   "metadata": {},
   "outputs": [],
   "source": [
    "print(eigen_vectors)"
   ]
  },
  {
   "cell_type": "markdown",
   "metadata": {},
   "source": [
    "## Step 6. Calculate corresponsing Eigen vectors for AA(transpose)\n",
    "#### now to calculate the eigen values and eigen vectors of the big matrix\n",
    "#### Needs to be noted that eigen values are same\n",
    "#### eigen vector is nothing but (7760X3)times(small_eigen_vector[3,])"
   ]
  },
  {
   "cell_type": "code",
   "execution_count": null,
   "metadata": {},
   "outputs": [],
   "source": [
    "list_large_eigen_vector = []\n",
    "for eigen_vector in eigen_vectors:\n",
    "    print(\"Multiplying \",mean_face_matrix.transpose().shape,\" with \",eigen_vector.shape)\n",
    "    new_eigen_vector=(mean_face_matrix.transpose()).dot(eigen_vector)\n",
    "    print(new_eigen_vector)\n",
    "    new_eigen_vector=new_eigen_vector / np.linalg.norm(new_eigen_vector)\n",
    "    list_large_eigen_vector.append(new_eigen_vector)    \n",
    "    \n",
    "\n",
    "eigen_faces=np.array(list_large_eigen_vector)\n",
    "print(eigen_faces.shape)    "
   ]
  },
  {
   "cell_type": "code",
   "execution_count": null,
   "metadata": {},
   "outputs": [],
   "source": [
    "i=0\n",
    "\n",
    "width,height=get_width_height_train_images()\n",
    "\n",
    "for eigen_face in eigen_faces:\n",
    "#     print(eigen_face.shape)\n",
    "    plt.figure()\n",
    "    plt.imshow(np.asarray(eigen_face.reshape(width,height)))\n",
    "    i+=1\n",
    "    if i ==10:\n",
    "        break\n",
    "print(\"showing first \",i,\" eigen faces out of \",eigen_faces.shape[0])"
   ]
  },
  {
   "cell_type": "markdown",
   "metadata": {},
   "source": [
    "## Step 6. Mapping image into eigen faces"
   ]
  },
  {
   "cell_type": "code",
   "execution_count": null,
   "metadata": {},
   "outputs": [],
   "source": [
    "weight_matrix=get_weight_vector_for_images(mean_face_matrix,eigen_faces)"
   ]
  },
  {
   "cell_type": "code",
   "execution_count": null,
   "metadata": {},
   "outputs": [],
   "source": [
    "print(weight_matrix)"
   ]
  },
  {
   "cell_type": "code",
   "execution_count": null,
   "metadata": {},
   "outputs": [],
   "source": []
  },
  {
   "cell_type": "markdown",
   "metadata": {},
   "source": [
    "### Detour to check if I can get face back"
   ]
  },
  {
   "cell_type": "code",
   "execution_count": null,
   "metadata": {},
   "outputs": [],
   "source": [
    "# Check if the weights give me back my face\n",
    "# lets try for face 0\n",
    "\n",
    "count=0\n",
    "image_matrix=np.zeros(width*height,)\n",
    "\n",
    "for face_weights in weight_matrix:\n",
    "    if count==5:\n",
    "        break\n",
    "    i=0\n",
    "#     print(\"Adding\")\n",
    "    for eigen_face in eigen_faces:\n",
    "#         plt.figure()    \n",
    "#         plt.imshow(np.asarray((face_weights[i]*eigen_face).reshape(243,320)))\n",
    "        image_matrix+= eigen_face*face_weights[i]\n",
    "        i+=1\n",
    "    image_matrix+=avg_vector\n",
    "    plt.figure()    \n",
    "    plt.imshow(np.asarray(image_matrix.reshape(width,height)))\n",
    "    count+=1\n",
    "    \n",
    "print(\"trying to get back first\",count, \"faces\")\n",
    "        \n",
    "        \n",
    "        "
   ]
  },
  {
   "cell_type": "markdown",
   "metadata": {},
   "source": [
    "### End of Detour"
   ]
  },
  {
   "cell_type": "markdown",
   "metadata": {},
   "source": [
    "### Test images"
   ]
  },
  {
   "cell_type": "code",
   "execution_count": null,
   "metadata": {},
   "outputs": [],
   "source": [
    "## Step 0. Resize test images to be same as train images"
   ]
  },
  {
   "cell_type": "code",
   "execution_count": null,
   "metadata": {},
   "outputs": [],
   "source": [
    "resize_test_images()"
   ]
  },
  {
   "cell_type": "code",
   "execution_count": null,
   "metadata": {},
   "outputs": [],
   "source": []
  },
  {
   "cell_type": "markdown",
   "metadata": {},
   "source": [
    "## Step 1. Given test image, search for closest match"
   ]
  },
  {
   "cell_type": "code",
   "execution_count": null,
   "metadata": {},
   "outputs": [],
   "source": [
    "curr_path=os.getcwd()\n",
    "test_images_path=os.path.join(curr_path,\"test_images\")\n",
    "print(test_images_path)\n",
    "\n",
    "test_matrix_vectors=read_flatten(test_images_path,1)\n",
    "\n",
    "\n",
    "\n",
    "\n",
    "# files=listdir(test_images_path)\n",
    "# # files.sort()\n",
    "\n",
    "\n",
    "\n",
    "# list_of_1d_matrix=[]\n",
    "# test_matrix_vectors=None\n",
    "# # add all image matrix into this list as 1D\n",
    "\n",
    "# for test_image in files:\n",
    "# #     print(test_image)\n",
    "#     file_name=os.path.join(test_images_path,test_image)    \n",
    "    \n",
    "# #     print(file_name)\n",
    "#     if \".DS\" in test_image:\n",
    "#         continue\n",
    "    \n",
    "#     image_pil = Image.open(file_name).convert('L')\n",
    "#     image = np.array(image_pil, 'uint8')\n",
    "#     list_of_1d_matrix.append(image.flatten().transpose())\n",
    "    \n",
    "#     print(image.shape)\n",
    "# test_matrix_vectors=np.array(list_of_1d_matrix)\n",
    "\n",
    "print(test_matrix_vectors.shape)\n",
    "\n"
   ]
  },
  {
   "cell_type": "markdown",
   "metadata": {},
   "source": [
    "## Step 2. Get Mean Face"
   ]
  },
  {
   "cell_type": "code",
   "execution_count": null,
   "metadata": {},
   "outputs": [],
   "source": [
    "test_mean_faces=(test_matrix_vectors-avg_vector)\n",
    "    "
   ]
  },
  {
   "cell_type": "code",
   "execution_count": null,
   "metadata": {},
   "outputs": [],
   "source": [
    "print(test_mean_faces.shape)"
   ]
  },
  {
   "cell_type": "markdown",
   "metadata": {},
   "source": [
    "## Step 3. Project into eigen space"
   ]
  },
  {
   "cell_type": "code",
   "execution_count": null,
   "metadata": {
    "scrolled": false
   },
   "outputs": [],
   "source": [
    "# need to create my own set of weights for eeach face\n",
    "face_number=0\n",
    "for test_mean_face in test_mean_faces:\n",
    "    test_face_set_of_weights=[]\n",
    "    print(\"for a face \",face_number)\n",
    "    for eigen_face in eigen_faces:\n",
    "        eigen_vector=eigen_face\n",
    "#         print(eigen_vector.shape,test_mean_face.shape)\n",
    "        test_face_set_of_weights.append(eigen_vector.transpose().dot(test_mean_face))\n",
    "#     print(test_face_set_of_weights)\n",
    "    \n",
    "    #may or may not want to project, need to ask someone\n",
    "    '''\n",
    "    test_image_projection=np.zeros(77760,)\n",
    "    i=0\n",
    "    for weight in face_set_of_weights:\n",
    "        print(weight,large_eigen_vectors[i].shape)\n",
    "        test_image_projection+=weight*large_eigen_vectors[i]\n",
    "        print(\"test image projection shape is \",test_image_projection.shape)\n",
    "        i=i+1\n",
    "    print(\"this is the test image \",test_image_projection)\n",
    "    '''\n",
    "    \n",
    "    # now that we have got the weight set for this face,\n",
    "    # let us compare it with the weights of the original faces\n",
    "    i=0\n",
    "    distances=[]\n",
    "    for original_weight in weight_matrix:\n",
    "#         print(i)\n",
    "#         print(\"yo\",test_face_set_of_weights)\n",
    "        dist=np.linalg.norm(original_weight-test_face_set_of_weights)\n",
    "        distances.append(dist)\n",
    "        i=i+1\n",
    "\n",
    "    print(\"distances are \",distances)\n",
    "    print(\"minimum dist is \",min(distances))\n",
    "\n",
    "    face_match=distances.index(min(distances))\n",
    "    print(\"matches with face \",face_match)\n",
    "    \n",
    "    plt.figure()    \n",
    "    plt.imshow(np.asarray(test_matrix_vectors[face_number].reshape(width,height)))\n",
    "\n",
    "    plt.figure()    \n",
    "    plt.imshow(np.asarray(matrix_vectors[face_match].reshape(width,height)))\n",
    "    face_number+=1\n",
    "\n",
    "\n",
    "        \n",
    "        \n",
    "    \n",
    "        \n",
    "    \n",
    "    "
   ]
  },
  {
   "cell_type": "code",
   "execution_count": null,
   "metadata": {},
   "outputs": [],
   "source": []
  },
  {
   "cell_type": "code",
   "execution_count": null,
   "metadata": {},
   "outputs": [],
   "source": []
  },
  {
   "cell_type": "code",
   "execution_count": null,
   "metadata": {},
   "outputs": [],
   "source": []
  },
  {
   "cell_type": "code",
   "execution_count": null,
   "metadata": {},
   "outputs": [],
   "source": []
  }
 ],
 "metadata": {
  "kernelspec": {
   "display_name": "venv_dl",
   "language": "python",
   "name": "venv_dl"
  },
  "language_info": {
   "codemirror_mode": {
    "name": "ipython",
    "version": 3
   },
   "file_extension": ".py",
   "mimetype": "text/x-python",
   "name": "python",
   "nbconvert_exporter": "python",
   "pygments_lexer": "ipython3",
   "version": "3.6.5"
  }
 },
 "nbformat": 4,
 "nbformat_minor": 2
}
